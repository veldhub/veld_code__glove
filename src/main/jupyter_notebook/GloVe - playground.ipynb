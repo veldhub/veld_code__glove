{
 "cells": [
  {
   "cell_type": "markdown",
   "id": "403a90c4-593f-4987-9822-e3ff3ca59db1",
   "metadata": {},
   "source": [
    "# setup"
   ]
  },
  {
   "cell_type": "code",
   "execution_count": null,
   "id": "ea4408e9-92b3-4966-9591-123ba7d4e24f",
   "metadata": {},
   "outputs": [],
   "source": [
    "import numpy as np"
   ]
  },
  {
   "cell_type": "code",
   "execution_count": null,
   "id": "efadce25-d3c5-4f85-a956-00e9015de619",
   "metadata": {},
   "outputs": [],
   "source": [
    "!ls /veld/storage/"
   ]
  },
  {
   "cell_type": "code",
   "execution_count": null,
   "id": "f1856ee5-fabf-4b7b-b2b6-58ee97b9d026",
   "metadata": {},
   "outputs": [],
   "source": [
    "VECTOR_FILE = \"/veld/storage/*vector.txt\" \n",
    "print(f\"VECTOR_FILE: {VECTOR_FILE}\")"
   ]
  },
  {
   "cell_type": "code",
   "execution_count": null,
   "id": "f0d95045-0b29-4984-8c4e-18ab474e99ec",
   "metadata": {},
   "outputs": [],
   "source": [
    "VECTORS = {}\n",
    "with open(VECTOR_FILE, 'r') as f:\n",
    "    for line in f:\n",
    "        vals = line.rstrip().split(' ')\n",
    "        VECTORS[vals[0]] = np.array([float(x) for x in vals[1:]])"
   ]
  },
  {
   "cell_type": "markdown",
   "id": "927f5ad9-8763-4879-a9e3-a4022ae9a42f",
   "metadata": {},
   "source": [
    "# functions"
   ]
  },
  {
   "cell_type": "code",
   "execution_count": null,
   "id": "b43dd100-b185-4caf-927b-c4a865a17977",
   "metadata": {},
   "outputs": [],
   "source": [
    "def get_cosine_similarity_of_vectors(v1, v2):\n",
    "    return np.dot(v1, v2) / (np.linalg.norm(v1) * np.linalg.norm(v2))"
   ]
  },
  {
   "cell_type": "code",
   "execution_count": null,
   "id": "54b7489e-747a-439f-ae44-2276a83684d2",
   "metadata": {},
   "outputs": [],
   "source": [
    "def get_cosine_similarity_of_words(w1, w2):\n",
    "    v1 = VECTORS[w1.lower()]\n",
    "    v2 = VECTORS[w2.lower()]\n",
    "    return get_cosine_similarity_of_vectors(v1, v2)"
   ]
  },
  {
   "cell_type": "code",
   "execution_count": null,
   "id": "e6ba8fa1-b3af-480a-a272-90f1ce958365",
   "metadata": {},
   "outputs": [],
   "source": [
    "def get_nearest_words_of_vector(v1, limit_results=None):\n",
    "    comparisons = []\n",
    "    for w2, v2 in VECTORS.items():\n",
    "        comparisons.append((w2, get_cosine_similarity_of_vectors(v1, v2)))\n",
    "    comparisons = sorted(comparisons, key=lambda x: -x[1])        \n",
    "    if limit_results is not None:\n",
    "        comparisons = comparisons[:limit_results]\n",
    "    return comparisons"
   ]
  },
  {
   "cell_type": "code",
   "execution_count": null,
   "id": "a722a6ea-7bd4-40c8-9d19-52d1ff820d33",
   "metadata": {},
   "outputs": [],
   "source": [
    "def get_nearest_words_of_word(w1, limit_results=None):\n",
    "    v1 = VECTORS[w1.lower()]\n",
    "    return get_nearest_words_of_vector(v1, limit_results)"
   ]
  },
  {
   "cell_type": "markdown",
   "id": "c6bd2158-75cb-4843-9089-65af990a0fe1",
   "metadata": {},
   "source": [
    "# testing"
   ]
  },
  {
   "cell_type": "code",
   "execution_count": null,
   "id": "a9c961d0-f217-41a2-95ae-eb8f61c556ad",
   "metadata": {},
   "outputs": [],
   "source": [
    "w1 = \"frau\"\n",
    "w2 = \"mann\""
   ]
  },
  {
   "cell_type": "code",
   "execution_count": null,
   "id": "cc61e68c-8fbd-4834-a552-cee44289b0a3",
   "metadata": {},
   "outputs": [],
   "source": [
    "v1 = VECTORS[w1]\n",
    "print(v1.shape)\n",
    "print(v1)\n",
    "v2 = VECTORS[w2]\n",
    "print(v2.shape)\n",
    "print(v2)"
   ]
  },
  {
   "cell_type": "code",
   "execution_count": null,
   "id": "58954128-0467-4125-b1c0-1358dc383c25",
   "metadata": {},
   "outputs": [],
   "source": [
    "print(get_cosine_similarity_of_words(w1, w2))"
   ]
  },
  {
   "cell_type": "code",
   "execution_count": null,
   "id": "b095ddd5-0e67-4f26-89af-46af7eeb33c6",
   "metadata": {},
   "outputs": [],
   "source": [
    "get_nearest_words_of_word(w1, limit_results=20)"
   ]
  },
  {
   "cell_type": "code",
   "execution_count": null,
   "id": "9cdd9985-1c19-475e-91aa-dd7e9b3a836e",
   "metadata": {},
   "outputs": [],
   "source": [
    "get_nearest_words_of_word(w2, limit_results=20)"
   ]
  }
 ],
 "metadata": {
  "kernelspec": {
   "display_name": "Python 3 (ipykernel)",
   "language": "python",
   "name": "python3"
  },
  "language_info": {
   "codemirror_mode": {
    "name": "ipython",
    "version": 3
   },
   "file_extension": ".py",
   "mimetype": "text/x-python",
   "name": "python",
   "nbconvert_exporter": "python",
   "pygments_lexer": "ipython3",
   "version": "3.10.12"
  }
 },
 "nbformat": 4,
 "nbformat_minor": 5
}
